{
 "cells": [
  {
   "cell_type": "markdown",
   "id": "02e77a88-fa66-401d-b493-5195e4d7fc09",
   "metadata": {},
   "source": [
    "# Tugas Praktikum Pemrogaman Komputer 1"
   ]
  },
  {
   "cell_type": "markdown",
   "id": "b3446479-6490-4d70-93a5-0cf1d9473c3c",
   "metadata": {},
   "source": [
    "Nama   : Muhammad Arya Mardhotillah\n",
    "\n",
    "NIM    : 200601110113\n",
    "\n",
    "Matkul : PPK"
   ]
  },
  {
   "cell_type": "markdown",
   "id": "44aa43ec-568b-4277-b360-8a3acb6bae12",
   "metadata": {
    "tags": []
   },
   "source": [
    "## Tugas No. 1"
   ]
  },
  {
   "cell_type": "markdown",
   "id": "134dedaa-6f62-46e8-9efd-0a147ecbaa44",
   "metadata": {
    "tags": []
   },
   "source": [
    "### Buatlah program yang meminta masukan user sebuah bilangan bulat N dimana (N > 0). Program kemudian menampilkan penjumlahan N bilangan genap positif pertama (bilangan genap ≥ 0). Contoh:\n",
    "\n",
    "    • Jika user memasukkan N = 3, maka outputnya: 0 + 2 + 4 = 6\n",
    "    • Jika user memasukkan N = 5, maka outputnya: 0 + 2 + 4 + 6 + 8 = 20"
   ]
  },
  {
   "cell_type": "code",
   "execution_count": null,
   "id": "76baa514-3b71-4282-8796-165a7606da23",
   "metadata": {},
   "outputs": [],
   "source": []
  },
  {
   "cell_type": "code",
   "execution_count": 5,
   "id": "37d366ca-1177-4697-97c0-80a3c756eddd",
   "metadata": {},
   "outputs": [
    {
     "name": "stdout",
     "output_type": "stream",
     "text": [
      "Menghitung Jumlah N Bilangan Genap Positif Pertama\n"
     ]
    },
    {
     "name": "stdin",
     "output_type": "stream",
     "text": [
      "Masukkan Nilai N : 3\n"
     ]
    },
    {
     "name": "stdout",
     "output_type": "stream",
     "text": [
      "Masukkan Nilai N : 3\n",
      "Bilangan Genap Positif Ke - 1  : 0\n",
      "Bilangan Genap Positif Ke - 2  : 2\n",
      "Bilangan Genap Positif Ke - 3  : 4\n",
      "\n",
      "Jumlah bilangan genap positif dari 3 bilangan diatas adalah 6\n",
      "\n",
      "lagi nopo mboten?\n"
     ]
    },
    {
     "name": "stdin",
     "output_type": "stream",
     "text": [
      " lagi\n",
      "Masukkan Nilai N : 8\n"
     ]
    },
    {
     "name": "stdout",
     "output_type": "stream",
     "text": [
      "Masukkan Nilai N : 8\n",
      "Bilangan Genap Positif Ke - 1  : 0\n",
      "Bilangan Genap Positif Ke - 2  : 2\n",
      "Bilangan Genap Positif Ke - 3  : 4\n",
      "Bilangan Genap Positif Ke - 4  : 6\n",
      "Bilangan Genap Positif Ke - 5  : 8\n",
      "Bilangan Genap Positif Ke - 6  : 10\n",
      "Bilangan Genap Positif Ke - 7  : 12\n",
      "Bilangan Genap Positif Ke - 8  : 14\n",
      "\n",
      "Jumlah bilangan genap positif dari 8 bilangan diatas adalah 56\n",
      "\n",
      "lagi nopo mboten?\n"
     ]
    },
    {
     "name": "stdin",
     "output_type": "stream",
     "text": [
      " mboten\n"
     ]
    },
    {
     "name": "stdout",
     "output_type": "stream",
     "text": [
      "Matur Nuwun\n"
     ]
    }
   ],
   "source": [
    "print('Menghitung Jumlah N Bilangan Genap Positif Pertama')\n",
    "\n",
    "def pengulangan():\n",
    "    N = int(input('Masukkan Nilai N :'))\n",
    "    print('Masukkan Nilai N :',N)\n",
    "    count = 0\n",
    "    sum = 0\n",
    "    for i in range (0,N*2,2):\n",
    "        if i % 2 == 0:\n",
    "            count = count + 1\n",
    "            sum = sum + i\n",
    "            print('Bilangan Genap Positif Ke -',count, ' :',i)\n",
    "    print()       \n",
    "    print('Jumlah bilangan genap positif dari',N,'bilangan diatas adalah',sum)\n",
    "    \n",
    "    print ('')\n",
    "    print ('lagi nopo mboten?')\n",
    "    x=input()\n",
    "    if x=='lagi':\n",
    "        return pengulangan()\n",
    "    if x=='mboten':\n",
    "        print('Matur Nuwun')\n",
    "        \n",
    "pengulangan()"
   ]
  },
  {
   "cell_type": "markdown",
   "id": "520c587d-d3d0-423f-8a12-8fb68f1acb73",
   "metadata": {},
   "source": [
    "## Tugas No.2"
   ]
  },
  {
   "cell_type": "markdown",
   "id": "f0a773c3-30ee-470f-a352-c474d9f80707",
   "metadata": {},
   "source": [
    "### Buatlah sebuah program yang meminta masukan user sebuah bilangan bulat N dimana (N > 0). Kemudian, program menampilkan penjumlahan N bilangan kuadrat pertama. Bilangan kuadrat adalah = 1, 4, 9, 16, 25, 36, ...., N2\n",
    "Contoh:\n",
    "    \n",
    "    • Jika user memasukkan N = 2, maka outputnya: 1 + 4 = 5\n",
    "    • Jika user memasukkan N = 3, maka outputnya: 1 + 4 + 9 = 14"
   ]
  },
  {
   "cell_type": "code",
   "execution_count": 7,
   "id": "0956b924-ed3e-4631-8d69-5150446d3fd1",
   "metadata": {},
   "outputs": [
    {
     "name": "stdout",
     "output_type": "stream",
     "text": [
      "Menghitung Jumlah N Bilangan Kuadrat Pertama\n"
     ]
    },
    {
     "name": "stdin",
     "output_type": "stream",
     "text": [
      "Masukkan Nilai N : 6\n"
     ]
    },
    {
     "name": "stdout",
     "output_type": "stream",
     "text": [
      "Masukkan Nilai N : 6\n",
      "Bilangan Kuadrat Ke - 1  : 1\n",
      "Bilangan Kuadrat Ke - 2  : 4\n",
      "Bilangan Kuadrat Ke - 3  : 9\n",
      "Bilangan Kuadrat Ke - 4  : 16\n",
      "Bilangan Kuadrat Ke - 5  : 25\n",
      "Bilangan Kuadrat Ke - 6  : 36\n",
      "\n",
      "Jumlah bilangan Kuadrat dari 6 bilangan diatas adalah 91\n",
      "\n",
      "lagi nopo mboten???\n"
     ]
    },
    {
     "name": "stdin",
     "output_type": "stream",
     "text": [
      " lagi\n",
      "Masukkan Nilai N : 8\n"
     ]
    },
    {
     "name": "stdout",
     "output_type": "stream",
     "text": [
      "Masukkan Nilai N : 8\n",
      "Bilangan Kuadrat Ke - 1  : 1\n",
      "Bilangan Kuadrat Ke - 2  : 4\n",
      "Bilangan Kuadrat Ke - 3  : 9\n",
      "Bilangan Kuadrat Ke - 4  : 16\n",
      "Bilangan Kuadrat Ke - 5  : 25\n",
      "Bilangan Kuadrat Ke - 6  : 36\n",
      "Bilangan Kuadrat Ke - 7  : 49\n",
      "Bilangan Kuadrat Ke - 8  : 64\n",
      "\n",
      "Jumlah bilangan Kuadrat dari 8 bilangan diatas adalah 204\n",
      "\n",
      "lagi nopo mboten???\n"
     ]
    },
    {
     "name": "stdin",
     "output_type": "stream",
     "text": [
      " mboten\n"
     ]
    },
    {
     "name": "stdout",
     "output_type": "stream",
     "text": [
      "Matur nuwun, I LOVE YOU HEHE !\n"
     ]
    }
   ],
   "source": [
    "print('Menghitung Jumlah N Bilangan Kuadrat Pertama')\n",
    "\n",
    "def pengulangan():\n",
    "    N = int(input('Masukkan Nilai N :'))\n",
    "    print('Masukkan Nilai N :',N)\n",
    "    count = 0\n",
    "    sum = 0\n",
    "    for i in range(1,N+1):\n",
    "        if i > 0:\n",
    "            count = count + 1\n",
    "            sum = sum + i*i\n",
    "            print('Bilangan Kuadrat Ke -',count, ' :',i*i)\n",
    "    print()       \n",
    "    print('Jumlah bilangan Kuadrat dari',N,'bilangan diatas adalah',sum)\n",
    "    \n",
    "    print ('')\n",
    "    print ('lagi nopo mboten???')\n",
    "    x=input()\n",
    "    if x=='lagi':\n",
    "        return pengulangan()\n",
    "    if x=='mboten':\n",
    "        print('Matur nuwun, I LOVE YOU HEHE !')\n",
    "        \n",
    "pengulangan()"
   ]
  },
  {
   "cell_type": "markdown",
   "id": "32129dc6-5cd1-443f-8b25-02047a5d690b",
   "metadata": {},
   "source": [
    "## Tugas No.3"
   ]
  },
  {
   "cell_type": "markdown",
   "id": "cef4df68-87c8-4f89-badd-4ff4d5085a53",
   "metadata": {},
   "source": [
    "### Buatlah sebuah program yang meminta masukan user sebuah bilangan bulat N dimana (N > 0). Program kemudian memeriksa setiap digit yang ada di angka tersebut, dan menampilkan berapa jumlah digit yang ganjil dari bilangan N tersebut.\n",
    "\n",
    "    • Jika user memasukkan N = 2345, jumlah digit yang ganjil = 2\n",
    "    • Jika user memasukkan N = 993312, jumlah digit yang ganjil = 5"
   ]
  },
  {
   "cell_type": "code",
   "execution_count": 8,
   "id": "8100d1f9-8545-4af0-ab53-fb6d04a99b25",
   "metadata": {},
   "outputs": [
    {
     "name": "stdout",
     "output_type": "stream",
     "text": [
      "Menampilkan Berapa Jumlah Digit yang Ganjil dari Bilangan N\n"
     ]
    },
    {
     "name": "stdin",
     "output_type": "stream",
     "text": [
      "Masukkan Nilai N : 6\n"
     ]
    },
    {
     "name": "stdout",
     "output_type": "stream",
     "text": [
      "Masukkan Nilai N : 6\n",
      "\n",
      "Jumlah digit yang ganjil dari 6 adalah 0\n",
      "\n",
      "lagi nopo mboten??\n"
     ]
    },
    {
     "name": "stdin",
     "output_type": "stream",
     "text": [
      " lagi\n",
      "Masukkan Nilai N : 7\n"
     ]
    },
    {
     "name": "stdout",
     "output_type": "stream",
     "text": [
      "Masukkan Nilai N : 7\n",
      "\n",
      "Jumlah digit yang ganjil dari 7 adalah 1\n",
      "\n",
      "lagi nopo mboten??\n"
     ]
    },
    {
     "name": "stdin",
     "output_type": "stream",
     "text": [
      " mboten\n"
     ]
    },
    {
     "name": "stdout",
     "output_type": "stream",
     "text": [
      "Matur Nuwun!!!\n"
     ]
    }
   ],
   "source": [
    "print('Menampilkan Berapa Jumlah Digit yang Ganjil dari Bilangan N')\n",
    "\n",
    "def pengulangan():\n",
    "    N = (input('Masukkan Nilai N :'))\n",
    "    print('Masukkan Nilai N :',N)\n",
    "    count = 0\n",
    "    Ganjil = ''\n",
    "    for i in N:\n",
    "        if i in '13579':\n",
    "            count += 1\n",
    "            Ganjil = Ganjil+i+''\n",
    "    print()\n",
    "    print('Jumlah digit yang ganjil dari',N,'adalah ' + str(count))\n",
    "    \n",
    "    print ('')\n",
    "    print ('lagi nopo mboten??')\n",
    "    x=input()\n",
    "    if x=='lagi':\n",
    "        return pengulangan()\n",
    "    if x=='mboten':\n",
    "        print('Matur Nuwun!!!')\n",
    "        \n",
    "pengulangan()"
   ]
  },
  {
   "cell_type": "code",
   "execution_count": null,
   "id": "4a4c8820-114d-4c95-a9f4-ff2d7fac8c3e",
   "metadata": {},
   "outputs": [],
   "source": []
  },
  {
   "cell_type": "markdown",
   "id": "d744fd60-9be6-4879-bf12-be504c3b640d",
   "metadata": {},
   "source": [
    "## Tugas No. 4"
   ]
  },
  {
   "cell_type": "markdown",
   "id": "cd7eafc3-564f-459c-b632-3d2b3d43ad7e",
   "metadata": {},
   "source": [
    "## Cari bagaimana cara menampilkan judul (title) dari grafik"
   ]
  },
  {
   "cell_type": "code",
   "execution_count": 1,
   "id": "b9ffe9a7-e7d0-451f-892e-6c3f7b3ff0e0",
   "metadata": {},
   "outputs": [
    {
     "name": "stderr",
     "output_type": "stream",
     "text": [
      "Matplotlib is building the font cache; this may take a moment.\n"
     ]
    },
    {
     "data": {
      "image/png": "[encoded data removed]",
      "text/plain": [
       "<Figure size 432x288 with 1 Axes>"
      ]
     },
     "metadata": {
      "needs_background": "light"
     },
     "output_type": "display_data"
    }
   ],
   "source": [
    "import numpy as np\n",
    "import matplotlib.pyplot as plt\n",
    "\n",
    "t = np.arange(0.0, 3.0, 0.01)\n",
    "s = np.sin(2.5 * np.pi * t)\n",
    "plt.plot(t, s)\n",
    "\n",
    "plt.xlabel('time (s)')\n",
    "plt.ylabel('voltage (V)')\n",
    "\n",
    "plt.title('Gelombang Sinus')\n",
    "plt.grid(True)\n",
    "\n",
    "plt.show()"
   ]
  },
  {
   "cell_type": "markdown",
   "id": "ff9fc2cc-f8ae-42e5-a230-dd376ddb5616",
   "metadata": {},
   "source": [
    "## Tugas No. 5"
   ]
  },
  {
   "cell_type": "markdown",
   "id": "060efdbc-28cd-42d9-8df5-6edf0c333b83",
   "metadata": {},
   "source": [
    "## Cari bagaimana cara memberikan label pada sumbu x dan sumbu y\n"
   ]
  },
  {
   "cell_type": "code",
   "execution_count": 2,
   "id": "30857608-4958-4fe1-bcd9-ec613b799802",
   "metadata": {},
   "outputs": [
    {
     "data": {
      "image/png": "[encoded data removed]",
      "text/plain": [
       "<Figure size 432x288 with 1 Axes>"
      ]
     },
     "metadata": {
      "needs_background": "light"
     },
     "output_type": "display_data"
    }
   ],
   "source": [
    "import matplotlib.pyplot as plt\n",
    "import numpy as np\n",
    "\n",
    "plt.plot([1,2,3,4],[1,4,9,16])\n",
    "plt.title(\"First Plot\")\n",
    "plt.xlabel(\"X label\")\n",
    "plt.ylabel(\"Y label\")\n",
    "plt.show()"
   ]
  },
  {
   "cell_type": "code",
   "execution_count": null,
   "id": "11569cc4-6002-459e-8a11-3e5ea1896d14",
   "metadata": {},
   "outputs": [],
   "source": []
  },
  {
   "cell_type": "markdown",
   "id": "00026770-7562-434d-a9f3-18a67956ab81",
   "metadata": {},
   "source": [
    "## Tugas No. 6"
   ]
  },
  {
   "cell_type": "markdown",
   "id": "cc3aaa83-6d19-4fbe-92ba-07c9ff474d03",
   "metadata": {},
   "source": [
    "## Cari bagaimana cara menambahkan teks dalam grafik"
   ]
  },
  {
   "cell_type": "code",
   "execution_count": 3,
   "id": "85ccd16e-7099-47dc-aa23-bf04b0642440",
   "metadata": {},
   "outputs": [
    {
     "data": {
      "image/png": "[encoded data removed]",
      "text/plain": [
       "<Figure size 432x288 with 1 Axes>"
      ]
     },
     "metadata": {
      "needs_background": "light"
     },
     "output_type": "display_data"
    },
    {
     "data": {
      "text/plain": [
       "<Figure size 432x288 with 0 Axes>"
      ]
     },
     "metadata": {},
     "output_type": "display_data"
    }
   ],
   "source": [
    "import matplotlib.pyplot as plt\n",
    "fig = plt.figure()\n",
    "ax = fig.add_axes([0,0,1,1])\n",
    "\n",
    "MataKuliah = ['Kalkulus', 'Struktur Aljabar', 'Matematika Keuangan', 'Analisis Riil']\n",
    "Nilai = [90,70,80,90]\n",
    "\n",
    "ax.bar(MataKuliah,Nilai)\n",
    "ax.set_xlabel('MataKuliah')\n",
    "ax.set_ylabel('Nilai')\n",
    "ax.set_title('Nilai Semester')\n",
    "\n",
    "plt.show()\n",
    "plt.savefig('foo.png')"
   ]
  },
  {
   "cell_type": "code",
   "execution_count": null,
   "id": "4fabb6e9-5bb3-442b-bf7d-387c93b90675",
   "metadata": {},
   "outputs": [],
   "source": []
  },
  {
   "cell_type": "code",
   "execution_count": null,
   "id": "06f50289-1dc5-419f-9519-dafaf4603221",
   "metadata": {},
   "outputs": [],
   "source": []
  },
  {
   "cell_type": "code",
   "execution_count": null,
   "id": "051dff09-8651-4107-b484-b9a2d139b052",
   "metadata": {},
   "outputs": [],
   "source": []
  }
 ],
 "metadata": {
  "kernelspec": {
   "display_name": "Python 3 (ipykernel)",
   "language": "python",
   "name": "python3"
  },
  "language_info": {
   "codemirror_mode": {
    "name": "ipython",
    "version": 3
   },
   "file_extension": ".py",
   "mimetype": "text/x-python",
   "name": "python",
   "nbconvert_exporter": "python",
   "pygments_lexer": "ipython3",
   "version": "3.10.2"
  }
 },
 "nbformat": 4,
 "nbformat_minor": 5
}
