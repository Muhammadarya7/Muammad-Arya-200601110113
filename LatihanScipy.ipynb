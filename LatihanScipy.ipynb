{
 "cells": [
  {
   "cell_type": "markdown",
   "id": "01967a32-392e-4565-bad4-ea3c36904360",
   "metadata": {},
   "source": [
    "# Nama: Muhammad Arya Mardhotillah\n",
    "# Nim : 200601110113"
   ]
  },
  {
   "cell_type": "code",
   "execution_count": 2,
   "id": "6e58bb52-6c5f-4ec4-8c26-09a5075f8d79",
   "metadata": {},
   "outputs": [],
   "source": [
    "from sympy import *\n",
    "x, t, z, nu = symbols('x t z nu')"
   ]
  },
  {
   "cell_type": "markdown",
   "id": "e8da15ad-7aea-4a05-912c-23c3f787d5d5",
   "metadata": {},
   "source": [
    "# No.1 Turunan 4x^2+2x+1"
   ]
  },
  {
   "cell_type": "code",
   "execution_count": 3,
   "id": "f1a6a0e6-f851-4266-9c85-541cae0fde2b",
   "metadata": {},
   "outputs": [
    {
     "data": {
      "text/latex": [
       "$\\displaystyle 8 x + 2$"
      ],
      "text/plain": [
       "8*x + 2"
      ]
     },
     "execution_count": 3,
     "metadata": {},
     "output_type": "execute_result"
    }
   ],
   "source": [
    "diff(4*x**2+2*x+1,x)"
   ]
  },
  {
   "cell_type": "markdown",
   "id": "4cdb6abb-1a21-4a38-beac-229dccd36a1f",
   "metadata": {},
   "source": [
    "# No.2 integralkan nilai sin⁡(x)^2+cos⁡(x)"
   ]
  },
  {
   "cell_type": "code",
   "execution_count": 7,
   "id": "39aa09d8-8ebf-4f35-8c26-a1a06627a875",
   "metadata": {},
   "outputs": [
    {
     "data": {
      "text/latex": [
       "$\\displaystyle \\frac{x}{2} - \\frac{\\sin{\\left(x \\right)} \\cos{\\left(x \\right)}}{2} + \\sin{\\left(x \\right)}$"
      ],
      "text/plain": [
       "x/2 - sin(x)*cos(x)/2 + sin(x)"
      ]
     },
     "execution_count": 7,
     "metadata": {},
     "output_type": "execute_result"
    }
   ],
   "source": [
    "integrate(sin(x)**2+cos(x), x)"
   ]
  },
  {
   "cell_type": "markdown",
   "id": "0500b061-63fc-44c9-be3d-4f16d5467689",
   "metadata": {},
   "source": [
    "# No.3 Penyelesaian dari cos(x)*tan(x)"
   ]
  },
  {
   "cell_type": "code",
   "execution_count": 8,
   "id": "8ec109e7-9432-4568-9328-4632bd131b23",
   "metadata": {},
   "outputs": [
    {
     "data": {
      "text/plain": [
       "[0, pi/2, 3*pi/2]"
      ]
     },
     "execution_count": 8,
     "metadata": {},
     "output_type": "execute_result"
    }
   ],
   "source": [
    "solve(cos(x)*tan(x),x)"
   ]
  },
  {
   "cell_type": "markdown",
   "id": "3f324035-95fd-4652-b1b2-85c36dcd37a0",
   "metadata": {},
   "source": [
    "# No.4 Nilai limit x mendekati 5 dari 2 Sin(x)+tan(x)"
   ]
  },
  {
   "cell_type": "code",
   "execution_count": 12,
   "id": "443b713c-fff5-4d94-9864-f113b7ce7a7a",
   "metadata": {},
   "outputs": [
    {
     "data": {
      "text/latex": [
       "$\\displaystyle \\tan{\\left(5 \\right)} + 2 \\sin{\\left(5 \\right)}$"
      ],
      "text/plain": [
       "tan(5) + 2*sin(5)"
      ]
     },
     "execution_count": 12,
     "metadata": {},
     "output_type": "execute_result"
    }
   ],
   "source": [
    "limit(2*sin(x)+tan(x),x,5)"
   ]
  },
  {
   "cell_type": "markdown",
   "id": "88421c56-69c0-4950-9481-55e003a366d2",
   "metadata": {},
   "source": [
    "# No.5 mencari nilai dari matriks [[2, 7, 10],[3, 4, 5]] dikali turunan (4x^2+2x+1)"
   ]
  },
  {
   "cell_type": "code",
   "execution_count": 34,
   "id": "97c0734f-9037-4fc9-83ce-9b4d544eae87",
   "metadata": {},
   "outputs": [
    {
     "data": {
      "text/latex": [
       "$\\displaystyle \\left[\\begin{matrix}16 x + 4 & 56 x + 14 & 80 x + 20\\\\24 x + 6 & 32 x + 8 & 40 x + 10\\end{matrix}\\right]$"
      ],
      "text/plain": [
       "Matrix([\n",
       "[16*x + 4, 56*x + 14, 80*x + 20],\n",
       "[24*x + 6,  32*x + 8, 40*x + 10]])"
      ]
     },
     "execution_count": 34,
     "metadata": {},
     "output_type": "execute_result"
    }
   ],
   "source": [
    "Matrix([[2, 7, 10], [3, 4, 5]])*diff(4*x**2+2*x+1,x)"
   ]
  },
  {
   "cell_type": "code",
   "execution_count": null,
   "id": "6f8292e8-b0f7-4f68-b959-30ff001f0596",
   "metadata": {},
   "outputs": [],
   "source": []
  }
 ],
 "metadata": {
  "kernelspec": {
   "display_name": "Python 3 (ipykernel)",
   "language": "python",
   "name": "python3"
  },
  "language_info": {
   "codemirror_mode": {
    "name": "ipython",
    "version": 3
   },
   "file_extension": ".py",
   "mimetype": "text/x-python",
   "name": "python",
   "nbconvert_exporter": "python",
   "pygments_lexer": "ipython3",
   "version": "3.10.2"
  }
 },
 "nbformat": 4,
 "nbformat_minor": 5
}
