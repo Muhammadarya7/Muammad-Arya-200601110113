{
 "cells": [
  {
   "cell_type": "markdown",
   "id": "51a2ad83-6db0-460b-9a26-9515e42bb000",
   "metadata": {},
   "source": [
    "# Muhammad Arya Mardhotillah\n",
    "# 200601110113\n",
    "\n",
    "# LATIHAN"
   ]
  },
  {
   "cell_type": "markdown",
   "id": "b6ffc08b-337d-4071-a3ba-7133d4fe5ddf",
   "metadata": {},
   "source": [
    "# No 1"
   ]
  },
  {
   "cell_type": "markdown",
   "id": "2498c932-8ba1-4f16-bad5-b34b1c649ae2",
   "metadata": {},
   "source": [
    "Buatlah program untuk menginputkan dua buah bilangan bulat, kemudian mencetak salah satu bilangan yang nilainya terbesar!"
   ]
  },
  {
   "cell_type": "code",
   "execution_count": 6,
   "id": "852afb2e-9a4c-4311-b78a-3b8b8cb25220",
   "metadata": {},
   "outputs": [
    {
     "name": "stdout",
     "output_type": "stream",
     "text": [
      "menentukan bilangan terbesar dari dua bilangan bulat\n"
     ]
    },
    {
     "name": "stdin",
     "output_type": "stream",
     "text": [
      "Masukkan Bilangan Pertama:  1\n",
      "Masukkan Bilngan Kedua:  2\n"
     ]
    },
    {
     "name": "stdout",
     "output_type": "stream",
     "text": [
      "2 terbesar\n",
      "\n",
      "====================================================\n",
      "             Masih ragu??? (Yes or No)              \n",
      "====================================================\n"
     ]
    },
    {
     "name": "stdin",
     "output_type": "stream",
     "text": [
      " Yes\n",
      "Masukkan Bilangan Pertama:  2\n",
      "Masukkan Bilngan Kedua:  3\n"
     ]
    },
    {
     "name": "stdout",
     "output_type": "stream",
     "text": [
      "3 terbesar\n",
      "\n",
      "====================================================\n",
      "             Masih ragu??? (Yes or No)              \n",
      "====================================================\n"
     ]
    },
    {
     "name": "stdin",
     "output_type": "stream",
     "text": [
      " No\n"
     ]
    },
    {
     "name": "stdout",
     "output_type": "stream",
     "text": [
      "terimakasih sudah mencoba, have a nice day:)\n"
     ]
    }
   ],
   "source": [
    "print ('menentukan bilangan terbesar dari dua bilangan bulat') \n",
    "\n",
    "def pengulangan():\n",
    "    a=input('Masukkan Bilangan Pertama: ')\n",
    "    b=input('Masukkan Bilngan Kedua: ')\n",
    "    if a>b :\n",
    "        print (a, 'terbesar')\n",
    "    elif b>a :\n",
    "        print (b, 'terbesar')\n",
    "\n",
    "    print ('')\n",
    "    print ('====================================================')\n",
    "    print ('             Masih ragu??? (Yes or No)              ')\n",
    "    print ('====================================================')\n",
    "    x=input()\n",
    "    if x=='Yes':\n",
    "        return pengulangan()\n",
    "    if x=='No':\n",
    "        print('terimakasih sudah mencoba, have a nice day:)')\n",
    "        \n",
    "pengulangan()"
   ]
  },
  {
   "cell_type": "code",
   "execution_count": null,
   "id": "d5dc15ca-d8e5-4946-863c-d8e7ceaac562",
   "metadata": {},
   "outputs": [],
   "source": []
  },
  {
   "cell_type": "markdown",
   "id": "7e51ccaa-a312-4df7-94c2-3e08912b31dc",
   "metadata": {},
   "source": [
    "# No.2"
   ]
  },
  {
   "cell_type": "markdown",
   "id": "f0db40be-ea1f-438a-9633-ef489dbe0f5b",
   "metadata": {},
   "source": [
    "Pada akhir semester seorang dosen menghitung nilai akhir dari mahasiswa yang\n",
    "terdiri dari nilai uas, uts, kuis, dan tugas. Nilai akhir didapatkan dari 40% nilai uas, 30% nilai uts, 10% nilai kuis, dan 20% nilai tugas. Jika nilai akhir dari\n",
    "mahasiswa di bawah 65 maka mahasiswa tersebut akan mendapatkan remidi.\n",
    "Buatlah program untuk membantu mengetahui mahasiswa yang mendapatkan\n",
    "remidi berdasarkan nilai akhir yang didapatkannya!"
   ]
  },
  {
   "cell_type": "code",
   "execution_count": 2,
   "id": "398cec75-6312-438f-ad24-e04a0b89fc97",
   "metadata": {
    "jp-MarkdownHeadingCollapsed": true,
    "tags": []
   },
   "outputs": [
    {
     "name": "stdin",
     "output_type": "stream",
     "text": [
      "Masukkan Nama Anda:  Muhammad Arya\n",
      "Masukkan NIM:  123456\n",
      "Masukkan Mata Kuliah:  Kalkulus\n",
      "Masukkan Semester:  2\n",
      "Masukkan Nilai UAS:  90\n",
      "Masukkan Nilai UTS:  80\n",
      "Masukkan Nilai Kuis:  90\n",
      "Masukkan Nilai Tugas:  99\n"
     ]
    },
    {
     "name": "stdout",
     "output_type": "stream",
     "text": [
      "=============HASIL=============\n",
      "==========PERHITUNGAN==========\n",
      "========NILAI MAHASISWA========\n",
      "Nama : Muhammad Arya\n",
      "NIM : 123456\n",
      "Mata Kuliah : Kalkulus\n",
      "Semester : 2\n",
      "Nilai UAS : 90.0\n",
      "Nilai UTS : 80.0\n",
      "Nilai Kuis : 90.0\n",
      "Nilai Tugas : 99.0\n",
      "Nilai Akhir : 88.8\n",
      "====ALHAMDULILLAH, SELAMAT ANDA LULUS====\n",
      "\n",
      "APAKAH ANDA INGIN MENCOBA LAGI??? (Yes or No)\n"
     ]
    },
    {
     "name": "stdin",
     "output_type": "stream",
     "text": [
      " Yes\n",
      "Masukkan Nama Anda:  Fulan\n",
      "Masukkan NIM:  123\n",
      "Masukkan Mata Kuliah:  aljabar\n",
      "Masukkan Semester:  3\n",
      "Masukkan Nilai UAS:  45\n",
      "Masukkan Nilai UTS:  56\n",
      "Masukkan Nilai Kuis:  67\n",
      "Masukkan Nilai Tugas:  70\n"
     ]
    },
    {
     "name": "stdout",
     "output_type": "stream",
     "text": [
      "=============HASIL=============\n",
      "==========PERHITUNGAN==========\n",
      "========NILAI MAHASISWA========\n",
      "Nama : Fulan\n",
      "NIM : 123\n",
      "Mata Kuliah : aljabar\n",
      "Semester : 3\n",
      "Nilai UAS : 45.0\n",
      "Nilai UTS : 56.0\n",
      "Nilai Kuis : 67.0\n",
      "Nilai Tugas : 70.0\n",
      "Nilai Akhir : 55.5\n",
      "====ANDA HARUS MENGIKUTI REMIDI====\n",
      "\n",
      "APAKAH ANDA INGIN MENCOBA LAGI??? (Yes or No)\n"
     ]
    },
    {
     "name": "stdin",
     "output_type": "stream",
     "text": [
      " No\n"
     ]
    },
    {
     "name": "stdout",
     "output_type": "stream",
     "text": [
      "TERIMAKASIH KAKAK:)\n"
     ]
    }
   ],
   "source": [
    "### print ('menghitung nilai akhir mahasiswa')\n",
    "\n",
    "\n",
    "def pengulangan():\n",
    "    nama=input('Masukkan Nama Anda: ')\n",
    "    nim=input('Masukkan NIM: ')\n",
    "    matkul=input('Masukkan Mata Kuliah: ')\n",
    "    smt=input('Masukkan Semester: ')\n",
    "    uas=float(input('Masukkan Nilai UAS: '))\n",
    "    uts=float(input('Masukkan Nilai UTS: '))\n",
    "    kuis=float(input('Masukkan Nilai Kuis: '))\n",
    "    tugas=float(input('Masukkan Nilai Tugas: '))\n",
    "\n",
    "    nilaiakhir=(uas*0.4)+(uts*0.3)+(kuis*0.1)+(tugas*0.2)\n",
    "\n",
    "    print('=============HASIL=============')\n",
    "    print('==========PERHITUNGAN==========')\n",
    "    print('========NILAI MAHASISWA========')\n",
    "\n",
    "    print('Nama :' ,nama)\n",
    "    print('NIM :' ,nim)\n",
    "    print('Mata Kuliah :' ,matkul)\n",
    "    print('Semester :' ,smt)\n",
    "    print('Nilai UAS :' ,uas)\n",
    "    print('Nilai UTS :' ,uts)\n",
    "    print('Nilai Kuis :' ,kuis)\n",
    "    print('Nilai Tugas :' ,tugas)\n",
    "    print('Nilai Akhir :' ,nilaiakhir)\n",
    "\n",
    "    if nilaiakhir < 65:\n",
    "        print('====ANDA HARUS MENGIKUTI REMIDI====')\n",
    "    else :\n",
    "        print('====ALHAMDULILLAH, SELAMAT ANDA LULUS====')\n",
    "        \n",
    "    print('')\n",
    "    print('====================================================')\n",
    "    print('   APAKAH ANDA INGIN MENCOBA LAGI??? (Yes or No)    ')\n",
    "    print('====================================================')\n",
    "    x=input()\n",
    "    if x=='Yes':\n",
    "        return pengulangan()\n",
    "    if x=='No':\n",
    "        print('TERIMAKASIH KAKAK:)')\n",
    "        \n",
    "pengulangan()"
   ]
  },
  {
   "cell_type": "markdown",
   "id": "0caaeeeb-d426-4037-8394-ca9cebe9e7f9",
   "metadata": {},
   "source": []
  },
  {
   "cell_type": "markdown",
   "id": "4dec5ee0-cefc-430b-832e-d59457703599",
   "metadata": {},
   "source": [
    "# No.3"
   ]
  },
  {
   "cell_type": "markdown",
   "id": "bb105107-be21-4320-9c07-e52a52639eff",
   "metadata": {},
   "source": [
    "Buatlah program kalkulator sederhana menggunakan Python. User akan memasukkan dua buah bilangan riil dan satu buah operator aritmatika (+, -, *, atau /),\n",
    "kemudian program akan mengoperasikan dua bilangan tersebut dengan operator yang sesuai. Contoh tampilan program:"
   ]
  },
  {
   "cell_type": "code",
   "execution_count": 12,
   "id": "7e5b2d37-5f32-469d-a81a-6e3d0d118871",
   "metadata": {},
   "outputs": [
    {
     "name": "stdout",
     "output_type": "stream",
     "text": [
      "Kalkulator Sederhana\n",
      "Pilih Operasi: \n",
      "1.Penjumlahan\n",
      "2.Pengurangan\n",
      "3.Perkalian\n",
      "4.Pembagian\n"
     ]
    },
    {
     "name": "stdin",
     "output_type": "stream",
     "text": [
      "Masukkan pilihan(1/2/3/4):  1\n",
      "Masukkan bilangan pertama:  3\n",
      "Masukkan bilangan kedua:  7\n"
     ]
    },
    {
     "name": "stdout",
     "output_type": "stream",
     "text": [
      "3.0 + 7.0 = 10.0\n",
      "\n",
      "====================================================\n",
      "             MAU LAGIII??? (Yes or No)              \n",
      "====================================================\n"
     ]
    },
    {
     "name": "stdin",
     "output_type": "stream",
     "text": [
      " Yes\n"
     ]
    },
    {
     "name": "stdout",
     "output_type": "stream",
     "text": [
      "Pilih Operasi: \n",
      "1.Penjumlahan\n",
      "2.Pengurangan\n",
      "3.Perkalian\n",
      "4.Pembagian\n"
     ]
    },
    {
     "name": "stdin",
     "output_type": "stream",
     "text": [
      "Masukkan pilihan(1/2/3/4):  2\n",
      "Masukkan bilangan pertama:  2\n",
      "Masukkan bilangan kedua:  3\n"
     ]
    },
    {
     "name": "stdout",
     "output_type": "stream",
     "text": [
      "2.0 - 3.0 = -1.0\n",
      "\n",
      "====================================================\n",
      "             MAU LAGIII??? (Yes or No)              \n",
      "====================================================\n"
     ]
    },
    {
     "name": "stdin",
     "output_type": "stream",
     "text": [
      " Yes\n"
     ]
    },
    {
     "name": "stdout",
     "output_type": "stream",
     "text": [
      "Pilih Operasi: \n",
      "1.Penjumlahan\n",
      "2.Pengurangan\n",
      "3.Perkalian\n",
      "4.Pembagian\n"
     ]
    },
    {
     "name": "stdin",
     "output_type": "stream",
     "text": [
      "Masukkan pilihan(1/2/3/4):  3\n",
      "Masukkan bilangan pertama:  4\n",
      "Masukkan bilangan kedua:  5\n"
     ]
    },
    {
     "name": "stdout",
     "output_type": "stream",
     "text": [
      "4.0 * 5.0 = 20.0\n",
      "\n",
      "====================================================\n",
      "             MAU LAGIII??? (Yes or No)              \n",
      "====================================================\n"
     ]
    },
    {
     "name": "stdin",
     "output_type": "stream",
     "text": [
      " Yes\n"
     ]
    },
    {
     "name": "stdout",
     "output_type": "stream",
     "text": [
      "Pilih Operasi: \n",
      "1.Penjumlahan\n",
      "2.Pengurangan\n",
      "3.Perkalian\n",
      "4.Pembagian\n"
     ]
    },
    {
     "name": "stdin",
     "output_type": "stream",
     "text": [
      "Masukkan pilihan(1/2/3/4):  4\n",
      "Masukkan bilangan pertama:  2\n",
      "Masukkan bilangan kedua:  3\n"
     ]
    },
    {
     "name": "stdout",
     "output_type": "stream",
     "text": [
      "2.0 / 3.0 = 0.6666666666666666\n",
      "\n",
      "====================================================\n",
      "             MAU LAGIII??? (Yes or No)              \n",
      "====================================================\n"
     ]
    },
    {
     "name": "stdin",
     "output_type": "stream",
     "text": [
      " No\n"
     ]
    },
    {
     "name": "stdout",
     "output_type": "stream",
     "text": [
      "SEMOGA SUKSES!!!\n"
     ]
    }
   ],
   "source": [
    "   print('Kalkulator Sederhana')\n",
    "    \n",
    "def pengulangan():\n",
    "    #penjumlahan\n",
    "    def add(x,y):\n",
    "        return x+y\n",
    "    #pengurangan\n",
    "    def subtract(x,y):\n",
    "        return x-y\n",
    "    #perkalian\n",
    "    def multiply(x,y):\n",
    "        return x*y\n",
    "    #pembagian\n",
    "    def divide(x,y):\n",
    "        return x/y\n",
    "\n",
    "    print(\"Pilih Operasi: \")\n",
    "    print(\"1.Penjumlahan\")\n",
    "    print(\"2.Pengurangan\")\n",
    "    print(\"3.Perkalian\")\n",
    "    print(\"4.Pembagian\")\n",
    "\n",
    "    pilih=input(\"Masukkan pilihan(1/2/3/4): \")\n",
    "    a=float(input(\"Masukkan bilangan pertama: \"))\n",
    "    b=float(input(\"Masukkan bilangan kedua: \"))\n",
    "    if pilih == '1':\n",
    "       print(a,\"+\",b,\"=\", add(a,b))\n",
    "    elif pilih == '2':\n",
    "       print(a,\"-\",b,\"=\", subtract(a,b))\n",
    "    elif pilih == '3':\n",
    "       print(a,\"*\",b,\"=\", multiply(a,b))\n",
    "    elif pilih == '4':\n",
    "       print(a,\"/\",b,\"=\", divide(a,b))\n",
    "    else:\n",
    "       print(\"Input salah\")\n",
    "\n",
    "    print ('')\n",
    "    print ('====================================================')\n",
    "    print ('             MAU LAGIII??? (Yes or No)              ')\n",
    "    print ('====================================================')\n",
    "    x=input()\n",
    "    if x=='Yes':\n",
    "        return pengulangan()\n",
    "    if x=='No':\n",
    "        print('SEMOGA SUKSES!!!')\n",
    "        \n",
    "pengulangan()"
   ]
  }
 ],
 "metadata": {
  "kernelspec": {
   "display_name": "Python 3 (ipykernel)",
   "language": "python",
   "name": "python3"
  },
  "language_info": {
   "codemirror_mode": {
    "name": "ipython",
    "version": 3
   },
   "file_extension": ".py",
   "mimetype": "text/x-python",
   "name": "python",
   "nbconvert_exporter": "python",
   "pygments_lexer": "ipython3",
   "version": "3.10.2"
  }
 },
 "nbformat": 4,
 "nbformat_minor": 5
}
